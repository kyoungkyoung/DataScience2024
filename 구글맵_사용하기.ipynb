{
  "nbformat": 4,
  "nbformat_minor": 0,
  "metadata": {
    "colab": {
      "provenance": [],
      "authorship_tag": "ABX9TyMOgILvzjKXwfmKSUx3F4AB",
      "include_colab_link": true
    },
    "kernelspec": {
      "name": "python3",
      "display_name": "Python 3"
    },
    "language_info": {
      "name": "python"
    }
  },
  "cells": [
    {
      "cell_type": "markdown",
      "metadata": {
        "id": "view-in-github",
        "colab_type": "text"
      },
      "source": [
        "<a href=\"https://colab.research.google.com/github/kyoungkyoung/DataScience2024/blob/main/%EA%B5%AC%EA%B8%80%EB%A7%B5_%EC%82%AC%EC%9A%A9%ED%95%98%EA%B8%B0.ipynb\" target=\"_parent\"><img src=\"https://colab.research.google.com/assets/colab-badge.svg\" alt=\"Open In Colab\"/></a>"
      ]
    },
    {
      "cell_type": "markdown",
      "source": [
        "###1. GCP에서 google Maps Platform에서 서비스 API 활성화하기\n",
        "###2. key값을 복사해오기\n",
        "###3. colab에서 secret key에 등록\n",
        "###4. 구글맵 설치\n",
        "###5. 구글맵 사용하기"
      ],
      "metadata": {
        "id": "Xhb-cRj6evCk"
      }
    },
    {
      "cell_type": "code",
      "execution_count": 1,
      "metadata": {
        "colab": {
          "base_uri": "https://localhost:8080/"
        },
        "id": "3faWsY2DW-Du",
        "outputId": "c7da1d1e-5d53-4aa1-8704-ab06c7963092"
      },
      "outputs": [
        {
          "output_type": "stream",
          "name": "stdout",
          "text": [
            "Collecting googlemaps\n",
            "  Downloading googlemaps-4.10.0.tar.gz (33 kB)\n",
            "  Preparing metadata (setup.py) ... \u001b[?25l\u001b[?25hdone\n",
            "Requirement already satisfied: requests<3.0,>=2.20.0 in /usr/local/lib/python3.10/dist-packages (from googlemaps) (2.32.3)\n",
            "Requirement already satisfied: charset-normalizer<4,>=2 in /usr/local/lib/python3.10/dist-packages (from requests<3.0,>=2.20.0->googlemaps) (3.3.2)\n",
            "Requirement already satisfied: idna<4,>=2.5 in /usr/local/lib/python3.10/dist-packages (from requests<3.0,>=2.20.0->googlemaps) (3.7)\n",
            "Requirement already satisfied: urllib3<3,>=1.21.1 in /usr/local/lib/python3.10/dist-packages (from requests<3.0,>=2.20.0->googlemaps) (2.0.7)\n",
            "Requirement already satisfied: certifi>=2017.4.17 in /usr/local/lib/python3.10/dist-packages (from requests<3.0,>=2.20.0->googlemaps) (2024.7.4)\n",
            "Building wheels for collected packages: googlemaps\n",
            "  Building wheel for googlemaps (setup.py) ... \u001b[?25l\u001b[?25hdone\n",
            "  Created wheel for googlemaps: filename=googlemaps-4.10.0-py3-none-any.whl size=40716 sha256=99a8295ec430421ea2921df82f12bd300e0a92581e166c5e9ecf29b74441c149\n",
            "  Stored in directory: /root/.cache/pip/wheels/17/f8/79/999d5d37118fd35d7219ef57933eb9d09886c4c4503a800f84\n",
            "Successfully built googlemaps\n",
            "Installing collected packages: googlemaps\n",
            "Successfully installed googlemaps-4.10.0\n"
          ]
        }
      ],
      "source": [
        "!pip install googlemaps"
      ]
    },
    {
      "cell_type": "code",
      "source": [
        "from google.colab import userdata\n",
        "mygkey = userdata.get('gmaps_key')"
      ],
      "metadata": {
        "id": "exb4P6WwYURS"
      },
      "execution_count": 3,
      "outputs": []
    },
    {
      "cell_type": "code",
      "source": [
        "import googlemaps\n",
        "gmaps = googlemaps.Client(key=mygkey)"
      ],
      "metadata": {
        "id": "uNMwl6aKY0KB"
      },
      "execution_count": 5,
      "outputs": []
    },
    {
      "cell_type": "code",
      "source": [
        "addr = ['서울시 강남구 역삼동 810']\n",
        "\n",
        "try:\n",
        "    result = gmaps.geocode(addr, language='ko')\n",
        "    print(result)  # Print the geocoding results if successful\n",
        "except googlemaps.exceptions.ApiError as e:\n",
        "    print(f\"Error: {e}\")  # Print the error message if an API error occurs"
      ],
      "metadata": {
        "colab": {
          "base_uri": "https://localhost:8080/"
        },
        "id": "CXX-nSR8Zejz",
        "outputId": "cd7372be-ebc6-495a-b27b-504e4602f55d"
      },
      "execution_count": 21,
      "outputs": [
        {
          "output_type": "stream",
          "name": "stdout",
          "text": [
            "[{'address_components': [{'long_name': '810', 'short_name': '810', 'types': ['premise']}, {'long_name': '역삼동', 'short_name': '역삼동', 'types': ['political', 'sublocality', 'sublocality_level_2']}, {'long_name': '강남구', 'short_name': '강남구', 'types': ['political', 'sublocality', 'sublocality_level_1']}, {'long_name': '서울특별시', 'short_name': '서울특별시', 'types': ['administrative_area_level_1', 'political']}, {'long_name': '대한민국', 'short_name': 'KR', 'types': ['country', 'political']}, {'long_name': '06123', 'short_name': '06123', 'types': ['postal_code']}], 'formatted_address': '대한민국 서울특별시 강남구 역삼동 810', 'geometry': {'location': {'lat': 37.5038636, 'lng': 127.0258264}, 'location_type': 'ROOFTOP', 'viewport': {'northeast': {'lat': 37.5052125802915, 'lng': 127.0271753802915}, 'southwest': {'lat': 37.5025146197085, 'lng': 127.0244774197085}}}, 'place_id': 'ChIJS1rmaOKjfDUR-emWXz2DGI0', 'plus_code': {'compound_code': 'G23G+G8 대한민국 서울특별시', 'global_code': '8Q99G23G+G8'}, 'types': ['street_address']}]\n"
          ]
        }
      ]
    },
    {
      "cell_type": "code",
      "source": [
        "# 주소값을 하나를 geocode()함수에 사용하더라도 결과는 리스트로 저장된다.\n",
        "# result[0]['geometry']['location']\n",
        "# result[0]['formatted_address']\n",
        "\n",
        "result"
      ],
      "metadata": {
        "colab": {
          "base_uri": "https://localhost:8080/"
        },
        "id": "4WryZ8V0fD2F",
        "outputId": "6d187d58-b0f5-4127-9adb-633e7bb8b082"
      },
      "execution_count": 22,
      "outputs": [
        {
          "output_type": "execute_result",
          "data": {
            "text/plain": [
              "[{'address_components': [{'long_name': '810',\n",
              "    'short_name': '810',\n",
              "    'types': ['premise']},\n",
              "   {'long_name': '역삼동',\n",
              "    'short_name': '역삼동',\n",
              "    'types': ['political', 'sublocality', 'sublocality_level_2']},\n",
              "   {'long_name': '강남구',\n",
              "    'short_name': '강남구',\n",
              "    'types': ['political', 'sublocality', 'sublocality_level_1']},\n",
              "   {'long_name': '서울특별시',\n",
              "    'short_name': '서울특별시',\n",
              "    'types': ['administrative_area_level_1', 'political']},\n",
              "   {'long_name': '대한민국',\n",
              "    'short_name': 'KR',\n",
              "    'types': ['country', 'political']},\n",
              "   {'long_name': '06123', 'short_name': '06123', 'types': ['postal_code']}],\n",
              "  'formatted_address': '대한민국 서울특별시 강남구 역삼동 810',\n",
              "  'geometry': {'location': {'lat': 37.5038636, 'lng': 127.0258264},\n",
              "   'location_type': 'ROOFTOP',\n",
              "   'viewport': {'northeast': {'lat': 37.5052125802915,\n",
              "     'lng': 127.0271753802915},\n",
              "    'southwest': {'lat': 37.5025146197085, 'lng': 127.0244774197085}}},\n",
              "  'place_id': 'ChIJS1rmaOKjfDUR-emWXz2DGI0',\n",
              "  'plus_code': {'compound_code': 'G23G+G8 대한민국 서울특별시',\n",
              "   'global_code': '8Q99G23G+G8'},\n",
              "  'types': ['street_address']}]"
            ]
          },
          "metadata": {},
          "execution_count": 22
        }
      ]
    },
    {
      "cell_type": "code",
      "source": [
        "map_lat = []\n",
        "map_lng = []\n",
        "\n",
        "tmp_loc = result[0].get('geometry')\n",
        "\n",
        "print(tmp_loc)\n",
        "# map_lat.append(tmp_loc['location']['lat'])\n",
        "# map_lat.append(tmp_loc['location']['lng'])\n",
        "\n"
      ],
      "metadata": {
        "colab": {
          "base_uri": "https://localhost:8080/"
        },
        "id": "SSm2rdPEZxmL",
        "outputId": "56bec7ba-6661-44aa-dbdb-f4df787086c6"
      },
      "execution_count": 11,
      "outputs": [
        {
          "output_type": "stream",
          "name": "stdout",
          "text": [
            "{'location': {'lat': 37.5371171, 'lng': 127.0483371}, 'location_type': 'ROOFTOP', 'viewport': {'northeast': {'lat': 37.5384660802915, 'lng': 127.0496860802915}, 'southwest': {'lat': 37.5357681197085, 'lng': 127.0469881197085}}}\n"
          ]
        }
      ]
    }
  ]
}